{
 "cells": [
  {
   "cell_type": "code",
   "execution_count": 2,
   "metadata": {
    "collapsed": false
   },
   "outputs": [],
   "source": [
    "from sklearn.preprocessing import OneHotEncoder  \n",
    "from sklearn.ensemble import RandomForestClassifier  \n",
    "from numpy import shape  \n",
    "import numpy as np  \n",
    "from sklearn.metrics import classification_report  \n",
    "from sklearn.metrics import confusion_matrix  \n",
    "from sklearn import preprocessing\n",
    "import pandas as pd\n",
    "import csv\n",
    "\n",
    "\n",
    "data = open(\"/Users/jiefenghou/Documents/finalex.csv\", \"r\")\n",
    "result = []\n",
    "next(data)\n",
    "for line in data:\n",
    "    rlist = []\n",
    "    temp = line.strip().split(',')\n",
    "    for i in temp:\n",
    "        rlist.append(int((float(i))))\n",
    "    result.append(rlist)\n",
    "\n",
    "with open(\"/Users/jiefenghou/Documents/outputex.csv\", \"w\") as f:\n",
    "    csv.writer(f).writerows(result)\n",
    "    \n",
    "    \n",
    "\n",
    "\n",
    "\n",
    "\n",
    "\n",
    "\n",
    "\n",
    "\n"
   ]
  },
  {
   "cell_type": "code",
   "execution_count": null,
   "metadata": {
    "collapsed": true
   },
   "outputs": [],
   "source": []
  },
  {
   "cell_type": "code",
   "execution_count": null,
   "metadata": {
    "collapsed": true
   },
   "outputs": [],
   "source": []
  }
 ],
 "metadata": {
  "kernelspec": {
   "display_name": "Python 3",
   "language": "python",
   "name": "python3"
  },
  "language_info": {
   "codemirror_mode": {
    "name": "ipython",
    "version": 3
   },
   "file_extension": ".py",
   "mimetype": "text/x-python",
   "name": "python",
   "nbconvert_exporter": "python",
   "pygments_lexer": "ipython3",
   "version": "3.6.0"
  }
 },
 "nbformat": 4,
 "nbformat_minor": 2
}
