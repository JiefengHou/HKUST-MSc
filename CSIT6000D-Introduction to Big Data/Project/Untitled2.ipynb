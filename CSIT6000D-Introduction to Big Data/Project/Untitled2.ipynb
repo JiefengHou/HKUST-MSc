{
 "cells": [
  {
   "cell_type": "code",
   "execution_count": 43,
   "metadata": {
    "collapsed": false
   },
   "outputs": [
    {
     "name": "stdout",
     "output_type": "stream",
     "text": [
      "142495439.252\n",
      "11937.1453561\n"
     ]
    }
   ],
   "source": [
    "import pandas as pd\n",
    "import matplotlib.pyplot as plt\n",
    "from sklearn.preprocessing import Normalizer\n",
    "from numpy import set_printoptions\n",
    "from sklearn.preprocessing import MinMaxScaler\n",
    "from sklearn.preprocessing import StandardScaler\n",
    "from sklearn.ensemble import RandomForestClassifier\n",
    "from sklearn.tree import DecisionTreeClassifier\n",
    "from sklearn import cross_validation\n",
    "import numpy as np\n",
    "from sklearn.linear_model import LinearRegression\n",
    "from sklearn.metrics import mean_squared_error\n",
    "from sklearn.svm import SVC\n",
    "\n",
    "from sklearn import metrics\n",
    "from sklearn.ensemble import ExtraTreesClassifier\n",
    "\n",
    "\n",
    "from sklearn.feature_selection import RFE\n",
    "from sklearn.linear_model import LogisticRegression\n",
    "\n",
    "from sklearn.preprocessing import OneHotEncoder    \n",
    "from numpy import shape     \n",
    "from sklearn.metrics import confusion_matrix \n",
    "from sklearn.metrics import classification_report\n",
    "\n",
    "\n",
    "data = pd.read_csv(\"/Users/jiefenghou/Documents/outputex.csv\",\n",
    "                   dtype={'theme1': 'category','theme2': 'category','theme2': 'category',\n",
    "                          'theme3': 'category','year': 'category',\n",
    "                          'month': 'category','day': 'category',\n",
    "                          'product1': 'category','product2': 'category',\n",
    "                          'product3': 'category','isHoliday': 'category'})\n",
    "feature_data = data[['directorrate','castrate1','castrate2','theme1','theme2','theme3','year','month','day',\n",
    "                    'product1','product2','product3','isHoliday']]\n",
    "\n",
    "stand_scaler = StandardScaler().fit(feature_data)\n",
    "stand_rescaled = stand_scaler.transform(feature_data)\n",
    "\n",
    "scaler = MinMaxScaler(feature_range=(0, 1))\n",
    "rescale_dai = scaler.fit_transform(stand_rescaled)\n",
    "set_printoptions(precision=5)\n",
    "\n",
    "featureD = rescale_dai[:, 0:13]\n",
    "#print (featureD)\n",
    "targetD = data['totalBox14']\n",
    "\n",
    "train, test, t_train, t_test = cross_validation.train_test_split(featureD, targetD, test_size=0.2, random_state=2)\n",
    "\n",
    "enc = OneHotEncoder(categorical_features=np.array([1,2,3,4,6,7,8,10,15]),n_values=[48,48,48,2017,13,32,143,143,143,2])  \n",
    "enc.fit(train) \n",
    "\n",
    "train = enc.transform(train).toarray()  \n",
    "test = enc.transform(test).toarray()\n",
    "\n",
    "clf = RandomForestClassifier(n_estimators=100)  \n",
    "#clf=DecisionTreeClassifier()\n",
    "clf = clf.fit(train,t_train) \n",
    "\n",
    "\n",
    "#print (classification_report(t_test, clf.predict(test)))  \n",
    "#print (t_test)\n",
    "#print (clf.predict(test))\n",
    "\n",
    "mse = mean_squared_error(t_test, clf.predict(test))\n",
    "print(mse)\n",
    "root_mse = mse** (1/2)\n",
    "print(root_mse)\n",
    "\n",
    "\n",
    "\n",
    "\n"
   ]
  },
  {
   "cell_type": "code",
   "execution_count": null,
   "metadata": {
    "collapsed": true
   },
   "outputs": [],
   "source": []
  },
  {
   "cell_type": "code",
   "execution_count": null,
   "metadata": {
    "collapsed": true
   },
   "outputs": [],
   "source": []
  }
 ],
 "metadata": {
  "kernelspec": {
   "display_name": "Python 3",
   "language": "python",
   "name": "python3"
  },
  "language_info": {
   "codemirror_mode": {
    "name": "ipython",
    "version": 3
   },
   "file_extension": ".py",
   "mimetype": "text/x-python",
   "name": "python",
   "nbconvert_exporter": "python",
   "pygments_lexer": "ipython3",
   "version": "3.6.0"
  }
 },
 "nbformat": 4,
 "nbformat_minor": 2
}
