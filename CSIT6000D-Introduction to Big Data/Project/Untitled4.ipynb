{
 "cells": [
  {
   "cell_type": "code",
   "execution_count": 5,
   "metadata": {
    "collapsed": false
   },
   "outputs": [
    {
     "name": "stdout",
     "output_type": "stream",
     "text": [
      "directorrate castrate1 castrate2 theme1 theme2 theme3 year month day product1 product2 product3 isHoliday\n",
      "[ 0.10006  0.10398  0.10802  0.09406  0.05579  0.03619  0.06633  0.09314\n",
      "  0.10953  0.09376  0.06704  0.04078  0.03132]\n"
     ]
    }
   ],
   "source": [
    "import pandas as pd\n",
    "import matplotlib.pyplot as plt\n",
    "from sklearn.preprocessing import Normalizer\n",
    "from numpy import set_printoptions\n",
    "from sklearn.preprocessing import MinMaxScaler\n",
    "from sklearn.preprocessing import StandardScaler\n",
    "from sklearn.ensemble import RandomForestClassifier \n",
    "from sklearn import cross_validation\n",
    "import numpy as np\n",
    "from sklearn.linear_model import LinearRegression\n",
    "from sklearn.metrics import mean_squared_error\n",
    "from sklearn.svm import SVC\n",
    "\n",
    "from sklearn import metrics\n",
    "from sklearn.ensemble import ExtraTreesClassifier\n",
    "\n",
    "from sklearn.feature_selection import RFE\n",
    "from sklearn.linear_model import LogisticRegression\n",
    "\n",
    "\n",
    "data = pd.read_csv(\"/Users/jiefenghou/Documents/outputex.csv\",dtype={'theme1': 'category','theme1': 'category','theme2': 'category',\n",
    "                          'theme3': 'category','year': 'category',\n",
    "                          'month': 'category','day': 'category',\n",
    "                          'product1': 'category','product2': 'category',\n",
    "                          'product3': 'category','isHoliday': 'category'})\n",
    "feature_data = data[['directorrate','castrate1','castrate2','theme1','theme2','theme3','year','month','day',\n",
    "                    'product1','product2','product3','isHoliday']]\n",
    "\n",
    "stand_scaler = StandardScaler().fit(feature_data)\n",
    "stand_rescaled = stand_scaler.transform(feature_data)\n",
    "\n",
    "scaler = MinMaxScaler(feature_range=(0, 1))\n",
    "rescale_dai = scaler.fit_transform(stand_rescaled)\n",
    "set_printoptions(precision=5)\n",
    "\n",
    "featureD = rescale_dai[:, 0:13]\n",
    "targetD = data['totalBox14']\n",
    "\n",
    "train, test, t_train, t_test = cross_validation.train_test_split(featureD, targetD, test_size=0.2, random_state=1)\n",
    "\n",
    "\n",
    "#======================= Recursive Feature Elimination\n",
    "#model = LogisticRegression()\n",
    "#rfe = RFE(model, 5)\n",
    "#rfe = rfe.fit(train, t_train)\n",
    "#print(rfe.support_)\n",
    "#print(rfe.ranking_)\n",
    "\n",
    "#======================= Feature Importance\n",
    "model = ExtraTreesClassifier()\n",
    "model.fit(train, t_train)\n",
    "print('directorrate','castrate1','castrate2','theme1','theme2','theme3','year','month','day',\n",
    "                    'product1','product2','product3','isHoliday')\n",
    "print(model.feature_importances_)\n"
   ]
  },
  {
   "cell_type": "code",
   "execution_count": null,
   "metadata": {
    "collapsed": true
   },
   "outputs": [],
   "source": []
  }
 ],
 "metadata": {
  "kernelspec": {
   "display_name": "Python 3",
   "language": "python",
   "name": "python3"
  },
  "language_info": {
   "codemirror_mode": {
    "name": "ipython",
    "version": 3
   },
   "file_extension": ".py",
   "mimetype": "text/x-python",
   "name": "python",
   "nbconvert_exporter": "python",
   "pygments_lexer": "ipython3",
   "version": "3.6.0"
  }
 },
 "nbformat": 4,
 "nbformat_minor": 2
}
