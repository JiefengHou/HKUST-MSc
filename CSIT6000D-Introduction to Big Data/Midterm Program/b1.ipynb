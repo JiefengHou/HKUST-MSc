{
 "cells": [
  {
   "cell_type": "code",
   "execution_count": 1,
   "metadata": {
    "collapsed": false
   },
   "outputs": [
    {
     "name": "stdout",
     "output_type": "stream",
     "text": [
      "B1: Match Document1 ID:12, Document2 ID:20, Similarity:1.0\n",
      "B1: Match Document1 ID:49, Document2 ID:88, Similarity:1.0\n",
      "B1: Match Document1 ID:52, Document2 ID:84, Similarity:1.0\n",
      "B1: Match Document1 ID:105, Document2 ID:127, Similarity:0.7130044843049327\n",
      "B1: Match Document1 ID:118, Document2 ID:122, Similarity:1.0\n",
      "B1: Match Document1 ID:124, Document2 ID:130, Similarity:0.9869281045751634\n",
      "B1: Match Document1 ID:125, Document2 ID:133, Similarity:1.0\n",
      "B1: Match Document1 ID:126, Document2 ID:134, Similarity:1.0\n",
      "B1: Match Document1 ID:142, Document2 ID:215, Similarity:0.9511111111111111\n",
      "B1: Match Document1 ID:143, Document2 ID:144, Similarity:0.5226130653266332\n",
      "B1: Match Document1 ID:153, Document2 ID:154, Similarity:1.0\n",
      "B1: Match Document1 ID:161, Document2 ID:162, Similarity:0.9862068965517241\n",
      "B1: Match Document1 ID:188, Document2 ID:189, Similarity:1.0\n",
      "B1: Match Document1 ID:227, Document2 ID:487, Similarity:0.5905511811023622\n",
      "B1: Match Document1 ID:228, Document2 ID:435, Similarity:1.0\n",
      "B1: Match Document1 ID:243, Document2 ID:252, Similarity:0.9936908517350158\n",
      "B1: Match Document1 ID:312, Document2 ID:313, Similarity:1.0\n",
      "B1: Match Document1 ID:357, Document2 ID:363, Similarity:0.5172413793103449\n",
      "B1: Match Document1 ID:383, Document2 ID:386, Similarity:1.0\n",
      "B1: Match Document1 ID:388, Document2 ID:389, Similarity:1.0\n",
      "B1: Match Document1 ID:414, Document2 ID:430, Similarity:0.8198757763975155\n",
      "B1: Match Document1 ID:496, Document2 ID:623, Similarity:0.9923664122137404\n",
      "B1: Match Document1 ID:509, Document2 ID:521, Similarity:0.9893617021276596\n",
      "B1: Match Document1 ID:519, Document2 ID:633, Similarity:1.0\n",
      "B1: Match Document1 ID:535, Document2 ID:536, Similarity:1.0\n",
      "B1: Match Document1 ID:539, Document2 ID:551, Similarity:1.0\n",
      "B1: Match Document1 ID:542, Document2 ID:625, Similarity:1.0\n",
      "B1: Match Document1 ID:592, Document2 ID:594, Similarity:1.0\n",
      "B1: Match Document1 ID:602, Document2 ID:603, Similarity:0.9925925925925926\n",
      "B1: Match Document1 ID:634, Document2 ID:635, Similarity:0.512396694214876\n",
      "B1: Match Document1 ID:641, Document2 ID:728, Similarity:0.7904761904761904\n",
      "B1: Match Document1 ID:642, Document2 ID:650, Similarity:0.9836065573770492\n",
      "B1: Match Document1 ID:644, Document2 ID:726, Similarity:1.0\n",
      "B1: Match Document1 ID:647, Document2 ID:653, Similarity:1.0\n",
      "B1: Match Document1 ID:649, Document2 ID:655, Similarity:1.0\n",
      "B1: Match Document1 ID:651, Document2 ID:732, Similarity:0.8222222222222222\n",
      "B1: Match Document1 ID:661, Document2 ID:675, Similarity:0.7333333333333333\n",
      "B1: Match Document1 ID:684, Document2 ID:688, Similarity:1.0\n",
      "B1: Match Document1 ID:686, Document2 ID:687, Similarity:1.0\n",
      "B1: Match Document1 ID:695, Document2 ID:696, Similarity:0.9868421052631579\n",
      "B1: Match Document1 ID:706, Document2 ID:707, Similarity:0.9900990099009901\n"
     ]
    }
   ],
   "source": [
    "listoflist=[]         \n",
    "with open('/Users/jiefenghou/Documents/bbcsport/bbcsport.mtx') as f:\n",
    "    next(f)\n",
    "    next(f)\n",
    "    for i in f:\n",
    "        list=[]\n",
    "        i=i.strip('\\n')\n",
    "        list.append(i.split(' ')[0])\n",
    "        list.append(i.split(' ')[1])\n",
    "        list.append(i.split(' ')[2])\n",
    "        listoflist.append(list)\n",
    "    \n",
    "\n",
    "    dict={}\n",
    "    for list in listoflist:\n",
    "        if not int(list[1]) in dict:\n",
    "            dict[int(list[1])] = [int(list[0])]\n",
    "        else:\n",
    "            dict[int(list[1])].append(int(list[0]))\n",
    "\n",
    "    list=[]\n",
    "    for key in sorted(dict.keys()):\n",
    "        list.append(key)\n",
    "\n",
    "    for index in range(len(list)):\n",
    "        for key in range(index+1,len(list)):\n",
    "            intersection = len(set.intersection(*[set(dict[list[index]]), set(dict[list[key]])]))\n",
    "            union = len(set.union(*[set(dict[list[index]]), set(dict[list[key]])]))\n",
    "            result=intersection/float(union)\n",
    "            if result >= 0.5:\n",
    "                print (\"B1: Match Document1 ID:{0}, Document2 ID:{1}, Similarity:{2}\".format(list[index],list[key],result)) "
   ]
  },
  {
   "cell_type": "code",
   "execution_count": null,
   "metadata": {
    "collapsed": true
   },
   "outputs": [],
   "source": []
  }
 ],
 "metadata": {
  "kernelspec": {
   "display_name": "Python 3",
   "language": "python",
   "name": "python3"
  },
  "language_info": {
   "codemirror_mode": {
    "name": "ipython",
    "version": 3
   },
   "file_extension": ".py",
   "mimetype": "text/x-python",
   "name": "python",
   "nbconvert_exporter": "python",
   "pygments_lexer": "ipython3",
   "version": "3.6.0"
  }
 },
 "nbformat": 4,
 "nbformat_minor": 2
}
